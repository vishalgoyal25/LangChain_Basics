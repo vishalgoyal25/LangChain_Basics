{
 "cells": [
  {
   "cell_type": "markdown",
   "id": "c7e66156",
   "metadata": {},
   "source": [
    "## Simple GenAI APP Using LangChain"
   ]
  },
  {
   "cell_type": "code",
   "execution_count": null,
   "id": "a79b49bb",
   "metadata": {},
   "outputs": [],
   "source": [
    "import os\n",
    "from dotenv import load_dotenv\n",
    "load_dotenv()"
   ]
  },
  {
   "cell_type": "code",
   "execution_count": null,
   "id": "62de6177",
   "metadata": {},
   "outputs": [],
   "source": [
    "os.environ['OPENAI_API_KEY']= os.getenv(\"OPENAI_API_KEY\")"
   ]
  },
  {
   "cell_type": "code",
   "execution_count": null,
   "id": "27794e55",
   "metadata": {},
   "outputs": [],
   "source": [
    "\n",
    "os.environ[\"LANGCHAIN_API_KEY\"]= os.getenv(\"LANGCHAIN_API_KEY\")\n",
    "os.environ[\"LANGCHAIN_PROJECT\"]= os.getenv(\"LANGCHAIN_PROJECT\")\n",
    "\n",
    "os.environ[\"LANGCHAIN_TRACING_V2\"]= \"true\""
   ]
  },
  {
   "cell_type": "markdown",
   "id": "f6618866",
   "metadata": {},
   "source": [
    "#### Load Data-->Docs-->Divide our Documents into Chunks(text)-->(text-->Vector)Vector Embeddings--->VectorStoreDB"
   ]
  },
  {
   "cell_type": "markdown",
   "id": "4e9ed975",
   "metadata": {},
   "source": [
    "## Data Ingestion--\n",
    "#### From the website we need to scrape the data"
   ]
  },
  {
   "cell_type": "code",
   "execution_count": null,
   "id": "70d9d5f3",
   "metadata": {},
   "outputs": [],
   "source": [
    "from langchain_community.document_loaders import WebBaseLoader"
   ]
  },
  {
   "cell_type": "code",
   "execution_count": null,
   "id": "3948d7cf",
   "metadata": {},
   "outputs": [],
   "source": [
    "loader= WebBaseLoader(\"https://docs.smith.langchain.com/administration/tutorials/manage_spend\")\n",
    "loader"
   ]
  },
  {
   "cell_type": "code",
   "execution_count": null,
   "id": "b36ce19e",
   "metadata": {},
   "outputs": [],
   "source": [
    "docs= loader.load()\n",
    "docs"
   ]
  },
  {
   "cell_type": "markdown",
   "id": "4d6d7d0c",
   "metadata": {},
   "source": [
    "## Splitting"
   ]
  },
  {
   "cell_type": "code",
   "execution_count": null,
   "id": "f0062653",
   "metadata": {},
   "outputs": [],
   "source": [
    "from langchain_text_splitters import RecursiveCharacterTextSplitter"
   ]
  },
  {
   "cell_type": "code",
   "execution_count": null,
   "id": "ea140d44",
   "metadata": {},
   "outputs": [],
   "source": [
    "text_splitter= RecursiveCharacterTextSplitter(chunk_size=1000, chunk_overlap=200)\n",
    "\n",
    "documents= text_splitter.split_documents(docs)"
   ]
  },
  {
   "cell_type": "code",
   "execution_count": null,
   "id": "5edb3893",
   "metadata": {},
   "outputs": [],
   "source": [
    "documents"
   ]
  },
  {
   "cell_type": "markdown",
   "id": "57aadbb4",
   "metadata": {},
   "source": [
    "## Embeddings"
   ]
  },
  {
   "cell_type": "code",
   "execution_count": null,
   "id": "7d0159fd",
   "metadata": {},
   "outputs": [],
   "source": [
    "from langchain_openai import OpenAIEmbeddings\n",
    "embeddings= OpenAIEmbeddings()"
   ]
  },
  {
   "cell_type": "markdown",
   "id": "b9a15e84",
   "metadata": {},
   "source": [
    "## VectorStore DB"
   ]
  },
  {
   "cell_type": "code",
   "execution_count": null,
   "id": "e217b95d",
   "metadata": {},
   "outputs": [],
   "source": [
    "from langchain_community.vectorstores import FAISS\n",
    "\n",
    "vectorstoredb= FAISS.from_documents(documents, embeddings)"
   ]
  },
  {
   "cell_type": "code",
   "execution_count": null,
   "id": "3e1847e4",
   "metadata": {},
   "outputs": [],
   "source": [
    "vectorstoredb"
   ]
  },
  {
   "cell_type": "markdown",
   "id": "bece8586",
   "metadata": {},
   "source": [
    "## Query From a vector db"
   ]
  },
  {
   "cell_type": "code",
   "execution_count": null,
   "id": "1717c126",
   "metadata": {},
   "outputs": [],
   "source": [
    "query= \"LangSmith has two usage limits: total traces and extended\"\n",
    "\n",
    "result= vectorstoredb.similarity_search(query)\n",
    "result"
   ]
  },
  {
   "cell_type": "code",
   "execution_count": null,
   "id": "40572ca6",
   "metadata": {},
   "outputs": [],
   "source": [
    "result[0].page_content"
   ]
  },
  {
   "cell_type": "markdown",
   "id": "5a7fe096",
   "metadata": {},
   "source": [
    "## Documents Chain"
   ]
  },
  {
   "cell_type": "markdown",
   "id": "d2c54e06",
   "metadata": {},
   "source": [
    "#### Using LLM"
   ]
  },
  {
   "cell_type": "code",
   "execution_count": null,
   "id": "7274fa53",
   "metadata": {},
   "outputs": [],
   "source": [
    "from langchain_openai import ChatOpenAI\n",
    "llm= ChatOpenAI(model=\"gpt-4o\")"
   ]
  },
  {
   "cell_type": "markdown",
   "id": "aac6fcde",
   "metadata": {},
   "source": [
    "#### Building Prompt"
   ]
  },
  {
   "cell_type": "code",
   "execution_count": null,
   "id": "af993865",
   "metadata": {},
   "outputs": [],
   "source": [
    "\n",
    "from langchain.chains.combine_documents import create_stuff_documents_chain\n",
    "from langchain_core.prompts import ChatPromptTemplate\n",
    "\n",
    "prompt= ChatPromptTemplate.from_template(\n",
    "    \"\"\"\n",
    "            Answer the following question based only on the provided context:\n",
    "            <context>\n",
    "            {context}\n",
    "            </context>\n",
    "\n",
    "    \"\"\"\n",
    ")\n",
    "\n",
    "document_chain= create_stuff_documents_chain(llm, prompt)\n",
    "document_chain"
   ]
  },
  {
   "cell_type": "markdown",
   "id": "b0e851c3",
   "metadata": {},
   "source": [
    "#### Using the Document chain"
   ]
  },
  {
   "cell_type": "code",
   "execution_count": null,
   "id": "b0505018",
   "metadata": {},
   "outputs": [],
   "source": [
    "from langchain_core.documents import Document\n",
    "\n",
    "document_chain.invoke({\n",
    "    \"input\":\"LangSmith has two usage limits: total traces and extended\",\n",
    "    \"context\":[Document(page_content= \"LangSmith has two usage limits: total traces and extended traces. These correspond to the two metrics we've been tracking on our usage graph. \")]\n",
    "})"
   ]
  },
  {
   "cell_type": "code",
   "execution_count": null,
   "id": "2cac0e60",
   "metadata": {},
   "outputs": [],
   "source": [
    "### Input--->Retriever--->vectorstoredb\n",
    "\n",
    "vectorstoredb"
   ]
  },
  {
   "cell_type": "markdown",
   "id": "c51912f8",
   "metadata": {},
   "source": [
    "## Retrieval Chain"
   ]
  },
  {
   "cell_type": "code",
   "execution_count": null,
   "id": "4f14e6e9",
   "metadata": {},
   "outputs": [],
   "source": [
    "retriever= vectorstoredb.as_retriever()\n",
    "\n",
    "from langchain.chains import create_retrieval_chain\n",
    "\n",
    "retrieval_chain= create_retrieval_chain(retriever, document_chain)\n"
   ]
  },
  {
   "cell_type": "code",
   "execution_count": null,
   "id": "5b0f1e2d",
   "metadata": {},
   "outputs": [],
   "source": [
    "retrieval_chain"
   ]
  },
  {
   "cell_type": "markdown",
   "id": "f2c1d880",
   "metadata": {},
   "source": [
    "## Get the response from the LLM"
   ]
  },
  {
   "cell_type": "code",
   "execution_count": null,
   "id": "798fdc06",
   "metadata": {},
   "outputs": [],
   "source": [
    "\n",
    "response= retrieval_chain.invoke({\"input\":\"LangSmith has two usage limits: total traces and extended\"})\n",
    "response['answer']"
   ]
  },
  {
   "cell_type": "code",
   "execution_count": null,
   "id": "0a0590c3",
   "metadata": {},
   "outputs": [],
   "source": [
    "\n",
    "response"
   ]
  },
  {
   "cell_type": "code",
   "execution_count": null,
   "id": "a7ffeeef",
   "metadata": {},
   "outputs": [],
   "source": [
    "response['context']"
   ]
  }
 ],
 "metadata": {
  "kernelspec": {
   "display_name": "Python 3",
   "language": "python",
   "name": "python3"
  },
  "language_info": {
   "codemirror_mode": {
    "name": "ipython",
    "version": 3
   },
   "file_extension": ".py",
   "mimetype": "text/x-python",
   "name": "python",
   "nbconvert_exporter": "python",
   "pygments_lexer": "ipython3",
   "version": "3.11.13"
  }
 },
 "nbformat": 4,
 "nbformat_minor": 5
}
