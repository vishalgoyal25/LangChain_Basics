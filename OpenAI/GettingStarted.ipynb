{
 "cells": [
  {
   "cell_type": "markdown",
   "id": "6b146960",
   "metadata": {},
   "source": [
    "## Getting started With Langchain And Open AI\n"
   ]
  },
  {
   "cell_type": "markdown",
   "id": "e700a030",
   "metadata": {},
   "source": [
    "In this quickstart we'll see how to:-\n",
    "\n",
    "- Get setup with LangChain, LangSmith and LangServe.\n",
    "\n",
    "- Use the most basic and common components of LangChain:----\n",
    "- 1. Prompt Templates. \n",
    "- 2. Models.\n",
    "- 3. Output_Parsers.\n",
    "\n",
    "- Build a simple application with LangChain.\n",
    "\n",
    "- Trace your application with LangSmith.\n",
    "\n",
    "- Serve your application with LangServe."
   ]
  },
  {
   "cell_type": "code",
   "execution_count": null,
   "id": "3e135752",
   "metadata": {},
   "outputs": [],
   "source": [
    "import os\n",
    "from dotenv import load_dotenv\n",
    "load_dotenv()"
   ]
  },
  {
   "cell_type": "code",
   "execution_count": null,
   "id": "80e58248",
   "metadata": {},
   "outputs": [],
   "source": [
    "os.environ['OPENAI_API_KEY']= os.getenv(\"OPENAI_API_KEY\")"
   ]
  },
  {
   "cell_type": "markdown",
   "id": "2b9d6108",
   "metadata": {},
   "source": [
    "## Langsmith Tracking"
   ]
  },
  {
   "cell_type": "code",
   "execution_count": null,
   "id": "b54bd0d2",
   "metadata": {},
   "outputs": [],
   "source": [
    "\n",
    "os.environ[\"LANGCHAIN_API_KEY\"]= os.getenv(\"LANGCHAIN_API_KEY\")\n",
    "os.environ[\"LANGCHAIN_PROJECT\"]= os.getenv(\"LANGCHAIN_PROJECT\")\n",
    "\n",
    "os.environ[\"LANGCHAIN_TRACING_V2\"]= \"true\""
   ]
  },
  {
   "cell_type": "code",
   "execution_count": null,
   "id": "660a40db",
   "metadata": {},
   "outputs": [],
   "source": [
    "from langchain_openai import ChatOpenAI\n",
    "\n",
    "llm= ChatOpenAI(model=\"gpt-4o\")\n",
    "print(llm)"
   ]
  },
  {
   "cell_type": "markdown",
   "id": "687aac1b",
   "metadata": {},
   "source": [
    "#### Input and get response from LLM"
   ]
  },
  {
   "cell_type": "code",
   "execution_count": null,
   "id": "1ea819ee",
   "metadata": {},
   "outputs": [],
   "source": [
    "result= llm.invoke(\"What is generative AI?\")"
   ]
  },
  {
   "cell_type": "code",
   "execution_count": null,
   "id": "d00e4584",
   "metadata": {},
   "outputs": [],
   "source": [
    "print(result)"
   ]
  },
  {
   "cell_type": "markdown",
   "id": "55912dc5",
   "metadata": {},
   "source": [
    "### Chatprompt Template"
   ]
  },
  {
   "cell_type": "code",
   "execution_count": null,
   "id": "e0db48e8",
   "metadata": {},
   "outputs": [],
   "source": [
    "\n",
    "from langchain_core.prompts import ChatPromptTemplate\n",
    "\n",
    "prompt= ChatPromptTemplate.from_messages(\n",
    "    [\n",
    "        (\"system\",\"You are an expert AI Engineer. Provide me answers based on the questions\"),\n",
    "        (\"user\",\"{input}\")\n",
    "    ]\n",
    "\n",
    ")\n",
    "prompt"
   ]
  },
  {
   "cell_type": "markdown",
   "id": "2ae28adf",
   "metadata": {},
   "source": [
    "## Create a Chain "
   ]
  },
  {
   "cell_type": "code",
   "execution_count": null,
   "id": "3c84caa2",
   "metadata": {},
   "outputs": [],
   "source": [
    "\n",
    "chain= prompt|llm\n",
    "\n",
    "response= chain.invoke({\"input\":\"Can you tell me about Langsmith?\"})\n",
    "\n",
    "print(response)"
   ]
  },
  {
   "cell_type": "code",
   "execution_count": null,
   "id": "fc83b199",
   "metadata": {},
   "outputs": [],
   "source": [
    "type(response)"
   ]
  },
  {
   "cell_type": "markdown",
   "id": "0e9cb41f",
   "metadata": {},
   "source": [
    "## string output Parser"
   ]
  },
  {
   "cell_type": "code",
   "execution_count": null,
   "id": "3351e68b",
   "metadata": {},
   "outputs": [],
   "source": [
    "\n",
    "from langchain_core.output_parsers import StrOutputParser\n",
    "\n",
    "output_parser= StrOutputParser()\n",
    "\n",
    "chain= prompt|llm|output_parser\n",
    "\n",
    "response= chain.invoke({\"input\":\"Can you tell me about Langsmith?\"})\n",
    "\n",
    "print(response)"
   ]
  },
  {
   "cell_type": "code",
   "execution_count": null,
   "id": "16bea6ac",
   "metadata": {},
   "outputs": [],
   "source": []
  }
 ],
 "metadata": {
  "kernelspec": {
   "display_name": "Python 3",
   "language": "python",
   "name": "python3"
  },
  "language_info": {
   "codemirror_mode": {
    "name": "ipython",
    "version": 3
   },
   "file_extension": ".py",
   "mimetype": "text/x-python",
   "name": "python",
   "nbconvert_exporter": "python",
   "pygments_lexer": "ipython3",
   "version": "3.11.13"
  }
 },
 "nbformat": 4,
 "nbformat_minor": 5
}
